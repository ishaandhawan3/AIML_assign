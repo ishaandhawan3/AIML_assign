{
 "cells": [
  {
   "cell_type": "markdown",
   "metadata": {},
   "source": [
    "# Exercise 1: Calculate Fibonacci Series\n",
    "\n",
    "Write a Python program to generate the Fibonacci series up to a specified number of terms. Allow the user to input the number of terms they want in the series. Use either a loop or recursion to generate the series."
   ]
  },
  {
   "cell_type": "code",
   "execution_count": 1,
   "metadata": {},
   "outputs": [
    {
     "name": "stdout",
     "output_type": "stream",
     "text": [
      "Fibonacci series up to 5 : [0, 1, 1, 2, 3]\n"
     ]
    }
   ],
   "source": [
    "#fibonacci series\n",
    "def fibonacci(n):\n",
    "    fibb = []\n",
    "    a, b = 0, 1\n",
    "    for _ in range(n):\n",
    "        fibb.append(a)\n",
    "        a, b = b, a + b\n",
    "    return fibb    \n",
    "\n",
    "n = int(input(\"Enter the number of terms for Fibonacci operation: \"))\n",
    "\n",
    "if n <= 0:\n",
    "    print(\"Enter a positive integer.\")\n",
    "else:\n",
    "    series = fibonacci(n)\n",
    "    print(\"Fibonacci series up to\", n, \":\", series)\n"
   ]
  },
  {
   "cell_type": "markdown",
   "metadata": {},
   "source": [
    "# Exercise 2: Word Count in a Text File\n",
    "\n",
    "Create a Python program that reads a text file and counts the occurrences of each word. Ignore case sensitivity and punctuation. Display the word frequency as a dictionary."
   ]
  },
  {
   "cell_type": "code",
   "execution_count": 4,
   "metadata": {},
   "outputs": [
    {
     "name": "stdout",
     "output_type": "stream",
     "text": [
      "{'hello': 1, 'world': 1, 'this': 1, 'is': 1, 'an': 1, 'example': 1, 'file': 2, 'for': 1, 'the': 4, 'python': 1, 'program': 1, 'that': 1, 'counts': 1, 'frequency': 1, 'of': 1, 'words': 1, 'in': 1, 'text': 1}\n"
     ]
    }
   ],
   "source": [
    "import string\n",
    "\n",
    "#creating a function to count the word occurences\n",
    "def Count_word_occurences(text_file):\n",
    "    word_frequency = {} #creating a dictionary\n",
    "    \n",
    "    #opening the text file\n",
    "    with open(text_file,\"r\") as file:\n",
    "        \n",
    "        text = file.read()\n",
    "        text = text.lower()\n",
    "        text = text.translate(str.maketrans('', '', string.punctuation))\n",
    "        words = text.split()\n",
    "        \n",
    "        for word in words:\n",
    "            if(word in word_frequency):\n",
    "                word_frequency[word] += 1\n",
    "            else:\n",
    "                word_frequency[word] = 1\n",
    "        \n",
    "        return word_frequency\n",
    "\n",
    "text_file = r'C:\\Users\\Lenovo\\Documents\\ID INFO\\python\\exampleFile.txt' #you can replace your file path here\n",
    "word_freq = Count_word_occurences(text_file)\n",
    "\n",
    "print(word_freq)"
   ]
  },
  {
   "cell_type": "markdown",
   "metadata": {},
   "source": [
    "# Exercise 3: Number Guessing Game\n",
    "\n",
    "Create a simple number guessing game where the computer generates a random number between 1 and 100, and the player has to guess the number. Provide feedback to the player if their guess is too high or too low. Allow the player to continue guessing until they correctly identify the number."
   ]
  },
  {
   "cell_type": "code",
   "execution_count": 10,
   "metadata": {},
   "outputs": [
    {
     "name": "stdout",
     "output_type": "stream",
     "text": [
      "Too Low\n",
      "Too Low\n",
      "Too High\n",
      "Too High\n",
      "Congratulations! You have guessed the correct number.\n"
     ]
    }
   ],
   "source": [
    "import random\n",
    "\n",
    "random_int = random.randint(1, 100)\n",
    "\n",
    "def input_from_user():\n",
    "    n = int(input(\"Enter the number :: \"))\n",
    "    return n\n",
    "\n",
    "n = input_from_user()\n",
    "\n",
    "while n != random_int:\n",
    "    if n > random_int:\n",
    "        print(\"Too High\")\n",
    "    elif n < random_int:\n",
    "        print(\"Too Low\")\n",
    "    \n",
    "    n = input_from_user()\n",
    "\n",
    "print(\"Congratulations! You have guessed the correct number.\")\n"
   ]
  }
 ],
 "metadata": {
  "kernelspec": {
   "display_name": "Python 3",
   "language": "python",
   "name": "python3"
  },
  "language_info": {
   "codemirror_mode": {
    "name": "ipython",
    "version": 3
   },
   "file_extension": ".py",
   "mimetype": "text/x-python",
   "name": "python",
   "nbconvert_exporter": "python",
   "pygments_lexer": "ipython3",
   "version": "3.12.6"
  }
 },
 "nbformat": 4,
 "nbformat_minor": 2
}
