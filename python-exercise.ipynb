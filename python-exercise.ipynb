{
 "cells": [
  {
   "cell_type": "markdown",
   "metadata": {},
   "source": [
    "# Exercise 1: Calculate Fibonacci Series\n",
    "\n",
    "Write a Python program to generate the Fibonacci series up to a specified number of terms. Allow the user to input the number of terms they want in the series. Use either a loop or recursion to generate the series."
   ]
  },
  {
   "cell_type": "markdown",
   "metadata": {},
   "source": [
    "# Exercise 2: Word Count in a Text File\n",
    "\n",
    "Create a Python program that reads a text file and counts the occurrences of each word. Ignore case sensitivity and punctuation. Display the word frequency as a dictionary."
   ]
  },
  {
   "cell_type": "markdown",
   "metadata": {},
   "source": [
    "# Exercise 3: Number Guessing Game\n",
    "\n",
    "Create a simple number guessing game where the computer generates a random number between 1 and 100, and the player has to guess the number. Provide feedback to the player if their guess is too high or too low. Allow the player to continue guessing until they correctly identify the number."
   ]
  }
 ],
 "metadata": {
  "language_info": {
   "name": "python"
  }
 },
 "nbformat": 4,
 "nbformat_minor": 2
}
