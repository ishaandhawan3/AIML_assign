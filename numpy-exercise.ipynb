{
 "cells": [
  {
   "cell_type": "markdown",
   "metadata": {},
   "source": [
    "# Exercise 1: Search and Extract Elements\n",
    "\n",
    "Write a Python program using Numpy that searches for a specific value in a 2D array and extracts the corresponding row or column. Allow the user to input the number which needs to be search"
   ]
  },
  {
   "cell_type": "markdown",
   "metadata": {},
   "source": [
    "# Exercise 2: Sort and Join Arrays\n",
    "\n",
    "Create a Python program using Numpy that generates two arrays, sorts them, and then concatenates them horizontally. Allow the user to input the size of the arrays and generate random values for the array elements."
   ]
  },
  {
   "cell_type": "markdown",
   "metadata": {},
   "source": [
    "# Exercise 3: Element-wise Operations\n",
    "\n",
    "Create a Python program that uses Numpy to perform element-wise operations on a given array. Take a 1D Numpy array as input and perform operations like squaring, taking the square root, and finding the exponential of each element."
   ]
  }
 ],
 "metadata": {
  "kernelspec": {
   "display_name": "Python 3",
   "language": "python",
   "name": "python3"
  },
  "language_info": {
   "codemirror_mode": {
    "name": "ipython",
    "version": 3
   },
   "file_extension": ".py",
   "mimetype": "text/x-python",
   "name": "python",
   "nbconvert_exporter": "python",
   "pygments_lexer": "ipython3",
   "version": "3.10.10"
  }
 },
 "nbformat": 4,
 "nbformat_minor": 2
}
