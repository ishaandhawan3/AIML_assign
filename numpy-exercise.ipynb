{
 "cells": [
  {
   "cell_type": "markdown",
   "metadata": {},
   "source": [
    "# Exercise 1: Search and Extract Elements\n",
    "\n",
    "Write a Python program using Numpy that searches for a specific value in a 2D array and extracts the corresponding row or column. Allow the user to input the number which needs to be search"
   ]
  },
  {
   "cell_type": "code",
   "execution_count": 6,
   "metadata": {},
   "outputs": [
    {
     "name": "stdout",
     "output_type": "stream",
     "text": [
      "Enter the elements row-wise:\n",
      "The row containing 5: [4 5 6]\n",
      "The column containing 5: [2 5 8]\n"
     ]
    }
   ],
   "source": [
    "import numpy as np\n",
    "\n",
    "def search_value(arr, value):\n",
    "    result = np.where(arr == value)\n",
    "    \n",
    "    if result[0].size == 0:\n",
    "        return \"Element not found.\"\n",
    "    else:\n",
    "        row_index = result[0][0]\n",
    "        col_index = result[1][0]\n",
    "        \n",
    "        print(f\"The row containing {value}: {arr[row_index, :]}\")\n",
    "        print(f\"The column containing {value}: {arr[:, col_index]}\")\n",
    "\n",
    "# Taking input for the matrix dimensions\n",
    "rows = int(input(\"Enter the number of rows: \"))\n",
    "cols = int(input(\"Enter the number of columns: \"))\n",
    "\n",
    "matrix = []\n",
    "\n",
    "print(\"Enter the elements row-wise:\")\n",
    "\n",
    "for i in range(rows):\n",
    "    row = []\n",
    "    for j in range(cols):\n",
    "        row.append(int(input(f\"Enter element at position ({i+1}, {j+1}): \")))\n",
    "    matrix.append(row)\n",
    "\n",
    "arr = np.array(matrix)\n",
    "\n",
    "# Taking input for the element to search\n",
    "search_element = int(input(\"Enter the element to search: \"))\n",
    "\n",
    "search_value(arr, search_element)\n"
   ]
  },
  {
   "cell_type": "markdown",
   "metadata": {},
   "source": [
    "# Exercise 2: Sort and Join Arrays\n",
    "\n",
    "Create a Python program using Numpy that generates two arrays, sorts them, and then concatenates them horizontally. Allow the user to input the size of the arrays and generate random values for the array elements."
   ]
  },
  {
   "cell_type": "code",
   "execution_count": 12,
   "metadata": {},
   "outputs": [
    {
     "name": "stdout",
     "output_type": "stream",
     "text": [
      "1st array :: \n",
      " [[393 215 726]\n",
      " [780 588 562]\n",
      " [541 232 286]]\n",
      "2nd array :: \n",
      " [[450 126 662]\n",
      " [265 268 173]\n",
      " [912 193 968]]\n",
      "Concatenated array :: \n",
      " [[393 215 726 450 126 662]\n",
      " [780 588 562 265 268 173]\n",
      " [541 232 286 912 193 968]]\n"
     ]
    }
   ],
   "source": [
    "# inputting the size of the arrays\n",
    "\n",
    "row_arr1 = int(input(\"Enter the num of rows of 1st array ::\"))\n",
    "col_arr1 = int(input(\"Enter the num of cols of 1st array ::\"))\n",
    "\n",
    "row_arr2 = int(input(\"Enter the num of rows of 2nd array ::\"))\n",
    "col_arr2 = int(input(\"Enter the num of cols of 2nd array ::\"))\n",
    "\n",
    "# creating the arrays\n",
    "\n",
    "arr1 = np.random.randint(1, 1000, (row_arr1, col_arr1))\n",
    "arr2 = np.random.randint(1, 1000, (row_arr2, col_arr2))\n",
    "print (f\"1st array :: \\n {arr1}\")\n",
    "print (f\"2nd array :: \\n {arr2}\")\n",
    "\n",
    "arr3 = np.concatenate((arr1,arr2), axis=1)\n",
    "print(f\"Concatenated array :: \\n {arr3}\")\n"
   ]
  },
  {
   "cell_type": "markdown",
   "metadata": {},
   "source": [
    "# Exercise 3: Element-wise Operations\n",
    "\n",
    "Create a Python program that uses Numpy to perform element-wise operations on a given array. Take a 1D Numpy array as input and perform operations like squaring, taking the square root, and finding the exponential of each element."
   ]
  },
  {
   "cell_type": "code",
   "execution_count": 15,
   "metadata": {},
   "outputs": [
    {
     "name": "stdout",
     "output_type": "stream",
     "text": [
      "The squared of each element :: [ 1  4  9 16]\n",
      "The square root of each element :: [1.         1.41421356 1.73205081 2.        ]\n",
      "The exponential of each element :: [ 2.71828183  7.3890561  20.08553692 54.59815003]\n"
     ]
    }
   ],
   "source": [
    "# defining the function for the operations\n",
    "def operations(arr):\n",
    "    squared = np.square(arr)\n",
    "    print(f\"The squared of each element :: {squared}\")\n",
    "    \n",
    "    sqr_root = np.sqrt(arr)\n",
    "    print(f\"The square root of each element :: {sqr_root}\")\n",
    "    \n",
    "    expolential = np.exp(arr)\n",
    "    print(f\"The exponential of each element :: {expolential}\")\n",
    "    \n",
    "    \n",
    "#taking input array\n",
    "n = int(input(\"Enter the size of the array :: \"))\n",
    "\n",
    "#creating the array\n",
    "matrix = []\n",
    "for i in range(n):\n",
    "    matrix.append(int(input()))\n",
    "\n",
    "arr = np.array(matrix)\n",
    "\n",
    "#calling the function\n",
    "operations(arr)"
   ]
  }
 ],
 "metadata": {
  "kernelspec": {
   "display_name": "Python 3",
   "language": "python",
   "name": "python3"
  },
  "language_info": {
   "codemirror_mode": {
    "name": "ipython",
    "version": 3
   },
   "file_extension": ".py",
   "mimetype": "text/x-python",
   "name": "python",
   "nbconvert_exporter": "python",
   "pygments_lexer": "ipython3",
   "version": "3.12.6"
  }
 },
 "nbformat": 4,
 "nbformat_minor": 2
}
