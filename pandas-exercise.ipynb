{
 "cells": [
  {
   "cell_type": "markdown",
   "metadata": {},
   "source": [
    "## Sample CSV\n",
    "\n",
    "Name, Age, Salary, Department\n",
    "Alice, 25, 50000, HR\n",
    "Bob, 30, 60000, IT\n",
    "Charlie, 22, 45000, Marketing\n",
    "David, 35, 70000, Finance\n",
    "Emma, 28, 55000, HR\n",
    "Frank, 32, 62000, IT\n",
    "Grace, 26, 52000, Marketing\n",
    "Henry, 40, 80000, Finance\n",
    "Isabel, 29, 58000, IT\n",
    "Jack, 24, 48000, Marketing\n",
    "Kelly, 31, 65000, HR\n",
    "Liam, 27, 53000, IT\n",
    "Mia, 33, 68000, Finance\n",
    "Nora, 23, 47000, Marketing\n",
    "Oscar, 36, 75000, HR\n",
    "Paul, 34, 72000, IT\n",
    "Quinn, 28, 56000, Finance\n",
    "Rachel, 39, 78000, Marketing\n",
    "Sam, 30, 61000, HR\n",
    "Tina, 25, 51000, IT\n"
   ]
  },
  {
   "cell_type": "markdown",
   "metadata": {},
   "source": [
    "# Exercise 1: Loading and Summarizing Data\n",
    "\n",
    "Create a Python program that uses Pandas to read a CSV file and provides a summary of the data. Use a sample CSV file with data. Display the first few rows of the DataFrame, as well as basic statistics such as mean, median, and standard deviation."
   ]
  },
  {
   "cell_type": "markdown",
   "metadata": {},
   "source": [
    "# Exercise 2: Data Filtering and Selection\n",
    "\n",
    "Extend the previous program to filter and display specific information from the DataFrame. For example, select and display rows where the age is greater than 25."
   ]
  },
  {
   "cell_type": "markdown",
   "metadata": {},
   "source": [
    "# Exercise 3: Data Aggregation and Grouping\n",
    "\n",
    "Create a Python program that demonstrates data aggregation using Pandas. Group the data by the 'Department' column and calculate the Average, Min and Max salary for each Department."
   ]
  }
 ],
 "metadata": {
  "kernelspec": {
   "display_name": "Python 3",
   "language": "python",
   "name": "python3"
  },
  "language_info": {
   "codemirror_mode": {
    "name": "ipython",
    "version": 3
   },
   "file_extension": ".py",
   "mimetype": "text/x-python",
   "name": "python",
   "nbconvert_exporter": "python",
   "pygments_lexer": "ipython3",
   "version": "3.10.10"
  }
 },
 "nbformat": 4,
 "nbformat_minor": 2
}
