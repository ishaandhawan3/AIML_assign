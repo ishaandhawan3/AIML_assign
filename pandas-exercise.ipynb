{
 "cells": [
  {
   "cell_type": "markdown",
   "metadata": {},
   "source": [
    "## Sample CSV\n",
    "\n",
    "Name, Age, Salary, Department\n",
    "Alice, 25, 50000, HR\n",
    "Bob, 30, 60000, IT\n",
    "Charlie, 22, 45000, Marketing\n",
    "David, 35, 70000, Finance\n",
    "Emma, 28, 55000, HR\n",
    "Frank, 32, 62000, IT\n",
    "Grace, 26, 52000, Marketing\n",
    "Henry, 40, 80000, Finance\n",
    "Isabel, 29, 58000, IT\n",
    "Jack, 24, 48000, Marketing\n",
    "Kelly, 31, 65000, HR\n",
    "Liam, 27, 53000, IT\n",
    "Mia, 33, 68000, Finance\n",
    "Nora, 23, 47000, Marketing\n",
    "Oscar, 36, 75000, HR\n",
    "Paul, 34, 72000, IT\n",
    "Quinn, 28, 56000, Finance\n",
    "Rachel, 39, 78000, Marketing\n",
    "Sam, 30, 61000, HR\n",
    "Tina, 25, 51000, IT\n"
   ]
  },
  {
   "cell_type": "markdown",
   "metadata": {},
   "source": [
    "# Exercise 1: Loading and Summarizing Data\n",
    "\n",
    "Create a Python program that uses Pandas to read a CSV file and provides a summary of the data. Use a sample CSV file with data. Display the first few rows of the DataFrame, as well as basic statistics such as mean, median, and standard deviation."
   ]
  },
  {
   "cell_type": "code",
   "execution_count": 19,
   "metadata": {},
   "outputs": [
    {
     "name": "stdout",
     "output_type": "stream",
     "text": [
      "<class 'pandas.core.frame.DataFrame'>\n",
      "RangeIndex: 20 entries, 0 to 19\n",
      "Data columns (total 4 columns):\n",
      " #   Column      Non-Null Count  Dtype \n",
      "---  ------      --------------  ----- \n",
      " 0   Name        20 non-null     object\n",
      " 1   Age         20 non-null     int64 \n",
      " 2   Salary      20 non-null     int64 \n",
      " 3   Department  20 non-null     object\n",
      "dtypes: int64(2), object(2)\n",
      "memory usage: 772.0+ bytes\n",
      "60748.45\n",
      "60930.0\n",
      "0     30831\n",
      "1     31645\n",
      "2     38629\n",
      "3     41918\n",
      "4     45073\n",
      "5     45771\n",
      "6     48975\n",
      "7     50553\n",
      "8     60484\n",
      "9     60582\n",
      "10    61278\n",
      "11    64130\n",
      "12    67812\n",
      "13    68040\n",
      "14    68798\n",
      "15    74371\n",
      "16    78671\n",
      "17    80762\n",
      "18    97574\n",
      "19    99072\n",
      "Name: Salary, dtype: int64\n",
      "19480.548604819553\n"
     ]
    }
   ],
   "source": [
    "!pip install pandas\n",
    "\n",
    "import pandas as pd\n",
    "\n",
    "df = pd.read_csv(r'C:\\Users\\Lenovo\\Documents\\ID INFO\\SOURCE_FUSE\\ai-ml-assignments-main\\TestDatanew (1).csv')\n",
    "\n",
    "df.head()\n",
    "\n",
    "df.tail()\n",
    "\n",
    "df.info()\n",
    "\n",
    "mean = df['Salary'].mean()\n",
    "print (mean)\n",
    "median = df['Salary'].median()\n",
    "print (median)\n",
    "mode = df['Salary'].mode()\n",
    "print (mode)\n",
    "standard_deviation = df['Salary'].std()\n",
    "print (standard_deviation)\n",
    "\n"
   ]
  },
  {
   "cell_type": "markdown",
   "metadata": {},
   "source": [
    "# Exercise 2: Data Filtering and Selection\n",
    "\n",
    "Extend the previous program to filter and display specific information from the DataFrame. For example, select and display rows where the age is greater than 25."
   ]
  },
  {
   "cell_type": "code",
   "execution_count": 20,
   "metadata": {},
   "outputs": [
    {
     "name": "stdout",
     "output_type": "stream",
     "text": [
      "         Name  Age  Salary Department\n",
      "1   Madeleine   50   67812         IT\n",
      "2     Roberta   44   50553  Marketing\n",
      "3      Dennie   37   41918         IT\n",
      "4       Wanda   55   78671         IT\n",
      "5       Ruthe   55   48975    Finance\n",
      "6       Nelle   37   68040         IT\n",
      "7      Adelle   44   45771         IT\n",
      "8      Adelle   57   61278         HR\n",
      "9    Cherilyn   68   31645  Marketing\n",
      "10     Joelly   58   97574  Marketing\n",
      "11  Jacquetta   66   30831         IT\n",
      "13      Lorie   46   68798    Finance\n",
      "14    Juliane   33   60484         IT\n",
      "15     Lolita   42   64130    Finance\n",
      "16      Ronna   51   80762  Marketing\n",
      "17     Briney   56   74371  Marketing\n",
      "18    Melodie   56   45073  Marketing\n",
      "19      Barbi   28   60582    Finance\n"
     ]
    }
   ],
   "source": [
    "filtered_df = df[df['Age']>25]\n",
    "print(filtered_df)"
   ]
  },
  {
   "cell_type": "markdown",
   "metadata": {},
   "source": [
    "# Exercise 3: Data Aggregation and Grouping\n",
    "\n",
    "Create a Python program that demonstrates data aggregation using Pandas. Group the data by the 'Department' column and calculate the Average, Min and Max salary for each Department."
   ]
  },
  {
   "cell_type": "code",
   "execution_count": 21,
   "metadata": {},
   "outputs": [
    {
     "name": "stdout",
     "output_type": "stream",
     "text": [
      "Salary stats for Department :: \n",
      "            Average Salary  Min Salary  Max Salary\n",
      "Department                                        \n",
      "Finance       68311.400000       48975       99072\n",
      "HR            61278.000000       61278       61278\n",
      "IT            54019.500000       30831       78671\n",
      "Marketing     63329.666667       31645       97574\n"
     ]
    }
   ],
   "source": [
    "salary_stats = df.groupby('Department')['Salary'].agg(['mean', 'min', 'max'])\n",
    "salary_stats.columns = ['Average Salary', 'Min Salary', 'Max Salary']\n",
    "print(\"Salary stats for Department :: \")\n",
    "print(salary_stats)"
   ]
  }
 ],
 "metadata": {
  "kernelspec": {
   "display_name": "Python 3",
   "language": "python",
   "name": "python3"
  },
  "language_info": {
   "codemirror_mode": {
    "name": "ipython",
    "version": 3
   },
   "file_extension": ".py",
   "mimetype": "text/x-python",
   "name": "python",
   "nbconvert_exporter": "python",
   "pygments_lexer": "ipython3",
   "version": "3.12.6"
  }
 },
 "nbformat": 4,
 "nbformat_minor": 2
}
